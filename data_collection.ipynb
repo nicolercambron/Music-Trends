{
 "cells": [
  {
   "cell_type": "code",
   "execution_count": 1,
   "id": "74326fe9-f799-4fe8-9229-8d4b043196cb",
   "metadata": {},
   "outputs": [],
   "source": [
    "# Import Splinter and BeautifulSoup\n",
    "from splinter import Browser\n",
    "from bs4 import BeautifulSoup\n",
    "from selenium import webdriver"
   ]
  },
  {
   "cell_type": "code",
   "execution_count": 2,
   "id": "3a013ce3-334f-4230-aa49-8f3e9584fb8b",
   "metadata": {},
   "outputs": [],
   "source": [
    "# Set up Splinter /Users/hannahmcpherson/anaconda3/lib/python3.11/site-packages (2.24.1)\n",
    "browser = Browser('chrome')"
   ]
  },
  {
   "cell_type": "code",
   "execution_count": 3,
   "id": "4b0d2242-334e-4800-863b-dd201466c3ff",
   "metadata": {},
   "outputs": [
    {
     "ename": "NoSuchWindowException",
     "evalue": "Message: no such window: target window already closed\nfrom unknown error: web view not found\n  (Session info: chrome=126.0.6478.127)\nStacktrace:\n0   chromedriver                        0x00000001082060e8 chromedriver + 5169384\n1   chromedriver                        0x00000001081fdfba chromedriver + 5136314\n2   chromedriver                        0x0000000107d7a36c chromedriver + 402284\n3   chromedriver                        0x0000000107d4f5f4 chromedriver + 226804\n4   chromedriver                        0x0000000107df353d chromedriver + 898365\n5   chromedriver                        0x0000000107e09908 chromedriver + 989448\n6   chromedriver                        0x0000000107dea853 chromedriver + 862291\n7   chromedriver                        0x0000000107dba5c6 chromedriver + 665030\n8   chromedriver                        0x0000000107dbae4e chromedriver + 667214\n9   chromedriver                        0x00000001081c8d00 chromedriver + 4918528\n10  chromedriver                        0x00000001081cdcfd chromedriver + 4939005\n11  chromedriver                        0x00000001081ce3d5 chromedriver + 4940757\n12  chromedriver                        0x00000001081a9de4 chromedriver + 4791780\n13  chromedriver                        0x00000001081ce6c9 chromedriver + 4941513\n14  chromedriver                        0x000000010819b5b4 chromedriver + 4732340\n15  chromedriver                        0x00000001081ee898 chromedriver + 5073048\n16  chromedriver                        0x00000001081eea57 chromedriver + 5073495\n17  chromedriver                        0x00000001081fdb6e chromedriver + 5135214\n18  libsystem_pthread.dylib             0x00007ff80db9218b _pthread_start + 99\n19  libsystem_pthread.dylib             0x00007ff80db8dae3 thread_start + 15\n",
     "output_type": "error",
     "traceback": [
      "\u001b[0;31m---------------------------------------------------------------------------\u001b[0m",
      "\u001b[0;31mNoSuchWindowException\u001b[0m                     Traceback (most recent call last)",
      "Cell \u001b[0;32mIn[3], line 3\u001b[0m\n\u001b[1;32m      1\u001b[0m \u001b[38;5;66;03m# Visit the Billboard site for top 10 data\u001b[39;00m\n\u001b[1;32m      2\u001b[0m url \u001b[38;5;241m=\u001b[39m \u001b[38;5;124m'\u001b[39m\u001b[38;5;124mhttps://www.billboard.com/music/chart-beat/2023-us-year-end-music-report-luminate-top-album-morgan-wallen-taylor-swift-1235579214/\u001b[39m\u001b[38;5;124m'\u001b[39m\n\u001b[0;32m----> 3\u001b[0m \u001b[43mbrowser\u001b[49m\u001b[38;5;241;43m.\u001b[39;49m\u001b[43mvisit\u001b[49m\u001b[43m(\u001b[49m\u001b[43murl\u001b[49m\u001b[43m)\u001b[49m\n\u001b[1;32m      4\u001b[0m \u001b[38;5;66;03m# Optional delay for loading the page\u001b[39;00m\n\u001b[1;32m      5\u001b[0m browser\u001b[38;5;241m.\u001b[39mis_element_present_by_css(\u001b[38;5;124m'\u001b[39m\u001b[38;5;124mdiv.list_text\u001b[39m\u001b[38;5;124m'\u001b[39m, wait_time\u001b[38;5;241m=\u001b[39m\u001b[38;5;241m1\u001b[39m)\n",
      "File \u001b[0;32m~/anaconda3/envs/dev/lib/python3.10/site-packages/splinter/driver/webdriver/__init__.py:318\u001b[0m, in \u001b[0;36mBaseWebDriver.visit\u001b[0;34m(self, url)\u001b[0m\n\u001b[1;32m    317\u001b[0m \u001b[38;5;28;01mdef\u001b[39;00m \u001b[38;5;21mvisit\u001b[39m(\u001b[38;5;28mself\u001b[39m, url):\n\u001b[0;32m--> 318\u001b[0m     \u001b[38;5;28;43mself\u001b[39;49m\u001b[38;5;241;43m.\u001b[39;49m\u001b[43mdriver\u001b[49m\u001b[38;5;241;43m.\u001b[39;49m\u001b[43mget\u001b[49m\u001b[43m(\u001b[49m\u001b[43murl\u001b[49m\u001b[43m)\u001b[49m\n",
      "File \u001b[0;32m~/anaconda3/envs/dev/lib/python3.10/site-packages/selenium/webdriver/remote/webdriver.py:363\u001b[0m, in \u001b[0;36mWebDriver.get\u001b[0;34m(self, url)\u001b[0m\n\u001b[1;32m    361\u001b[0m \u001b[38;5;28;01mdef\u001b[39;00m \u001b[38;5;21mget\u001b[39m(\u001b[38;5;28mself\u001b[39m, url: \u001b[38;5;28mstr\u001b[39m) \u001b[38;5;241m-\u001b[39m\u001b[38;5;241m>\u001b[39m \u001b[38;5;28;01mNone\u001b[39;00m:\n\u001b[1;32m    362\u001b[0m \u001b[38;5;250m    \u001b[39m\u001b[38;5;124;03m\"\"\"Loads a web page in the current browser session.\"\"\"\u001b[39;00m\n\u001b[0;32m--> 363\u001b[0m     \u001b[38;5;28;43mself\u001b[39;49m\u001b[38;5;241;43m.\u001b[39;49m\u001b[43mexecute\u001b[49m\u001b[43m(\u001b[49m\u001b[43mCommand\u001b[49m\u001b[38;5;241;43m.\u001b[39;49m\u001b[43mGET\u001b[49m\u001b[43m,\u001b[49m\u001b[43m \u001b[49m\u001b[43m{\u001b[49m\u001b[38;5;124;43m\"\u001b[39;49m\u001b[38;5;124;43murl\u001b[39;49m\u001b[38;5;124;43m\"\u001b[39;49m\u001b[43m:\u001b[49m\u001b[43m \u001b[49m\u001b[43murl\u001b[49m\u001b[43m}\u001b[49m\u001b[43m)\u001b[49m\n",
      "File \u001b[0;32m~/anaconda3/envs/dev/lib/python3.10/site-packages/selenium/webdriver/remote/webdriver.py:354\u001b[0m, in \u001b[0;36mWebDriver.execute\u001b[0;34m(self, driver_command, params)\u001b[0m\n\u001b[1;32m    352\u001b[0m response \u001b[38;5;241m=\u001b[39m \u001b[38;5;28mself\u001b[39m\u001b[38;5;241m.\u001b[39mcommand_executor\u001b[38;5;241m.\u001b[39mexecute(driver_command, params)\n\u001b[1;32m    353\u001b[0m \u001b[38;5;28;01mif\u001b[39;00m response:\n\u001b[0;32m--> 354\u001b[0m     \u001b[38;5;28;43mself\u001b[39;49m\u001b[38;5;241;43m.\u001b[39;49m\u001b[43merror_handler\u001b[49m\u001b[38;5;241;43m.\u001b[39;49m\u001b[43mcheck_response\u001b[49m\u001b[43m(\u001b[49m\u001b[43mresponse\u001b[49m\u001b[43m)\u001b[49m\n\u001b[1;32m    355\u001b[0m     response[\u001b[38;5;124m\"\u001b[39m\u001b[38;5;124mvalue\u001b[39m\u001b[38;5;124m\"\u001b[39m] \u001b[38;5;241m=\u001b[39m \u001b[38;5;28mself\u001b[39m\u001b[38;5;241m.\u001b[39m_unwrap_value(response\u001b[38;5;241m.\u001b[39mget(\u001b[38;5;124m\"\u001b[39m\u001b[38;5;124mvalue\u001b[39m\u001b[38;5;124m\"\u001b[39m, \u001b[38;5;28;01mNone\u001b[39;00m))\n\u001b[1;32m    356\u001b[0m     \u001b[38;5;28;01mreturn\u001b[39;00m response\n",
      "File \u001b[0;32m~/anaconda3/envs/dev/lib/python3.10/site-packages/selenium/webdriver/remote/errorhandler.py:229\u001b[0m, in \u001b[0;36mErrorHandler.check_response\u001b[0;34m(self, response)\u001b[0m\n\u001b[1;32m    227\u001b[0m         alert_text \u001b[38;5;241m=\u001b[39m value[\u001b[38;5;124m\"\u001b[39m\u001b[38;5;124malert\u001b[39m\u001b[38;5;124m\"\u001b[39m]\u001b[38;5;241m.\u001b[39mget(\u001b[38;5;124m\"\u001b[39m\u001b[38;5;124mtext\u001b[39m\u001b[38;5;124m\"\u001b[39m)\n\u001b[1;32m    228\u001b[0m     \u001b[38;5;28;01mraise\u001b[39;00m exception_class(message, screen, stacktrace, alert_text)  \u001b[38;5;66;03m# type: ignore[call-arg]  # mypy is not smart enough here\u001b[39;00m\n\u001b[0;32m--> 229\u001b[0m \u001b[38;5;28;01mraise\u001b[39;00m exception_class(message, screen, stacktrace)\n",
      "\u001b[0;31mNoSuchWindowException\u001b[0m: Message: no such window: target window already closed\nfrom unknown error: web view not found\n  (Session info: chrome=126.0.6478.127)\nStacktrace:\n0   chromedriver                        0x00000001082060e8 chromedriver + 5169384\n1   chromedriver                        0x00000001081fdfba chromedriver + 5136314\n2   chromedriver                        0x0000000107d7a36c chromedriver + 402284\n3   chromedriver                        0x0000000107d4f5f4 chromedriver + 226804\n4   chromedriver                        0x0000000107df353d chromedriver + 898365\n5   chromedriver                        0x0000000107e09908 chromedriver + 989448\n6   chromedriver                        0x0000000107dea853 chromedriver + 862291\n7   chromedriver                        0x0000000107dba5c6 chromedriver + 665030\n8   chromedriver                        0x0000000107dbae4e chromedriver + 667214\n9   chromedriver                        0x00000001081c8d00 chromedriver + 4918528\n10  chromedriver                        0x00000001081cdcfd chromedriver + 4939005\n11  chromedriver                        0x00000001081ce3d5 chromedriver + 4940757\n12  chromedriver                        0x00000001081a9de4 chromedriver + 4791780\n13  chromedriver                        0x00000001081ce6c9 chromedriver + 4941513\n14  chromedriver                        0x000000010819b5b4 chromedriver + 4732340\n15  chromedriver                        0x00000001081ee898 chromedriver + 5073048\n16  chromedriver                        0x00000001081eea57 chromedriver + 5073495\n17  chromedriver                        0x00000001081fdb6e chromedriver + 5135214\n18  libsystem_pthread.dylib             0x00007ff80db9218b _pthread_start + 99\n19  libsystem_pthread.dylib             0x00007ff80db8dae3 thread_start + 15\n"
     ]
    }
   ],
   "source": [
    "# Visit the Billboard site for top 10 data\n",
    "url = 'https://www.billboard.com/music/chart-beat/2023-us-year-end-music-report-luminate-top-album-morgan-wallen-taylor-swift-1235579214/'\n",
    "browser.visit(url)\n",
    "# Optional delay for loading the page\n",
    "browser.is_element_present_by_css('div.list_text', wait_time=1)"
   ]
  },
  {
   "cell_type": "code",
   "execution_count": null,
   "id": "620a7dc6-8c9d-4e84-ab54-0c457903b843",
   "metadata": {},
   "outputs": [],
   "source": [
    "# Scrape the website\n",
    "html = browser.html\n",
    "\n",
    "# Create a BeautifulSoup object from the scraped HTML\n",
    "soup = BeautifulSoup(html, 'html.parser')"
   ]
  },
  {
   "cell_type": "code",
   "execution_count": null,
   "id": "1c26ce2f-0350-478a-b8e9-b882963ede23",
   "metadata": {},
   "outputs": [],
   "source": []
  },
  {
   "cell_type": "code",
   "execution_count": null,
   "id": "b3a22267-87d1-42a3-ac07-42c5c7012a9c",
   "metadata": {},
   "outputs": [],
   "source": []
  }
 ],
 "metadata": {
  "kernelspec": {
   "display_name": "Python 3 (ipykernel)",
   "language": "python",
   "name": "python3"
  },
  "language_info": {
   "codemirror_mode": {
    "name": "ipython",
    "version": 3
   },
   "file_extension": ".py",
   "mimetype": "text/x-python",
   "name": "python",
   "nbconvert_exporter": "python",
   "pygments_lexer": "ipython3",
   "version": "3.10.14"
  }
 },
 "nbformat": 4,
 "nbformat_minor": 5
}
