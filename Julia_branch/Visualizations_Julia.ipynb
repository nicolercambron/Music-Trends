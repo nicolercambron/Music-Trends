{
 "cells": [
  {
   "cell_type": "code",
   "execution_count": 17,
   "metadata": {
    "executionInfo": {
     "elapsed": 171,
     "status": "ok",
     "timestamp": 1720665062588,
     "user": {
      "displayName": "Roberto Carrasco",
      "userId": "11708623061919516743"
     },
     "user_tz": 360
    },
    "id": "PjIYVK-KPCB-"
   },
   "outputs": [],
   "source": [
    "import pandas as pd\n",
    "import numpy as np\n",
    "import altair as alt\n",
    "import matplotlib.pyplot as plt\n"
   ]
  },
  {
   "cell_type": "code",
   "execution_count": 18,
   "metadata": {
    "executionInfo": {
     "elapsed": 1,
     "status": "ok",
     "timestamp": 1720665062800,
     "user": {
      "displayName": "Roberto Carrasco",
      "userId": "11708623061919516743"
     },
     "user_tz": 360
    },
    "id": "TJahqSRhQGiq"
   },
   "outputs": [],
   "source": [
    "chart_toppers = pd.read_csv('chart_toppers.csv')\n",
    "top10_albums = pd.read_csv('Top10_Albums.csv')"
   ]
  },
  {
   "cell_type": "code",
   "execution_count": 19,
   "metadata": {
    "colab": {
     "base_uri": "https://localhost:8080/"
    },
    "executionInfo": {
     "elapsed": 169,
     "status": "ok",
     "timestamp": 1720665063151,
     "user": {
      "displayName": "Roberto Carrasco",
      "userId": "11708623061919516743"
     },
     "user_tz": 360
    },
    "id": "9oTQQ-Y5QGki",
    "outputId": "a85f83d9-9f54-4d01-e2c0-04957924dee3"
   },
   "outputs": [
    {
     "name": "stdout",
     "output_type": "stream",
     "text": [
      "(52, 5)\n",
      "(10, 3)\n"
     ]
    }
   ],
   "source": [
    "print(chart_toppers.shape)\n",
    "print(top10_albums.shape)"
   ]
  },
  {
   "cell_type": "code",
   "execution_count": 20,
   "metadata": {
    "colab": {
     "base_uri": "https://localhost:8080/"
    },
    "executionInfo": {
     "elapsed": 157,
     "status": "ok",
     "timestamp": 1720665106118,
     "user": {
      "displayName": "Roberto Carrasco",
      "userId": "11708623061919516743"
     },
     "user_tz": 360
    },
    "id": "CzKux8taStX1",
    "outputId": "d7905772-540c-4f07-bcb5-222e74ad79b9"
   },
   "outputs": [
    {
     "name": "stdout",
     "output_type": "stream",
     "text": [
      "Index(['Issue date', 'Song', 'Artist(s)', 'Unnamed: 3', 'Unnamed: 4'], dtype='object')\n",
      "Index(['Artist', 'Album', 'units'], dtype='object')\n"
     ]
    }
   ],
   "source": [
    "print(chart_toppers.columns)\n",
    "print(top10_albums.columns)\n"
   ]
  },
  {
   "cell_type": "code",
   "execution_count": 21,
   "metadata": {
    "colab": {
     "base_uri": "https://localhost:8080/",
     "height": 582
    },
    "executionInfo": {
     "elapsed": 2,
     "status": "ok",
     "timestamp": 1720665063498,
     "user": {
      "displayName": "Roberto Carrasco",
      "userId": "11708623061919516743"
     },
     "user_tz": 360
    },
    "id": "DPwg-N9rStaK",
    "outputId": "56256325-a5fa-4c2a-cbe6-7b3e50d87502"
   },
   "outputs": [
    {
     "data": {
      "text/html": [
       "<div>\n",
       "<style scoped>\n",
       "    .dataframe tbody tr th:only-of-type {\n",
       "        vertical-align: middle;\n",
       "    }\n",
       "\n",
       "    .dataframe tbody tr th {\n",
       "        vertical-align: top;\n",
       "    }\n",
       "\n",
       "    .dataframe thead th {\n",
       "        text-align: right;\n",
       "    }\n",
       "</style>\n",
       "<table border=\"1\" class=\"dataframe\">\n",
       "  <thead>\n",
       "    <tr style=\"text-align: right;\">\n",
       "      <th></th>\n",
       "      <th>Artist</th>\n",
       "      <th>Count</th>\n",
       "    </tr>\n",
       "  </thead>\n",
       "  <tbody>\n",
       "    <tr>\n",
       "      <th>0</th>\n",
       "      <td>Morgan Wallen</td>\n",
       "      <td>16</td>\n",
       "    </tr>\n",
       "    <tr>\n",
       "      <th>1</th>\n",
       "      <td>Miley Cyrus</td>\n",
       "      <td>8</td>\n",
       "    </tr>\n",
       "    <tr>\n",
       "      <th>2</th>\n",
       "      <td>Taylor Swift</td>\n",
       "      <td>7</td>\n",
       "    </tr>\n",
       "    <tr>\n",
       "      <th>3</th>\n",
       "      <td>Mariah Carey</td>\n",
       "      <td>3</td>\n",
       "    </tr>\n",
       "    <tr>\n",
       "      <th>4</th>\n",
       "      <td>Doja Cat</td>\n",
       "      <td>3</td>\n",
       "    </tr>\n",
       "    <tr>\n",
       "      <th>5</th>\n",
       "      <td>Olivia Rodrigo</td>\n",
       "      <td>2</td>\n",
       "    </tr>\n",
       "    <tr>\n",
       "      <th>6</th>\n",
       "      <td>Oliver Anthony Music</td>\n",
       "      <td>2</td>\n",
       "    </tr>\n",
       "    <tr>\n",
       "      <th>7</th>\n",
       "      <td>Brenda Lee</td>\n",
       "      <td>2</td>\n",
       "    </tr>\n",
       "    <tr>\n",
       "      <th>8</th>\n",
       "      <td>SZA</td>\n",
       "      <td>1</td>\n",
       "    </tr>\n",
       "    <tr>\n",
       "      <th>9</th>\n",
       "      <td>Jason Aldean</td>\n",
       "      <td>1</td>\n",
       "    </tr>\n",
       "    <tr>\n",
       "      <th>10</th>\n",
       "      <td>Jimin</td>\n",
       "      <td>1</td>\n",
       "    </tr>\n",
       "    <tr>\n",
       "      <th>11</th>\n",
       "      <td>Zach Bryan featuring Kacey Musgraves</td>\n",
       "      <td>1</td>\n",
       "    </tr>\n",
       "    <tr>\n",
       "      <th>12</th>\n",
       "      <td>The Weeknd and Ariana Grande</td>\n",
       "      <td>1</td>\n",
       "    </tr>\n",
       "    <tr>\n",
       "      <th>13</th>\n",
       "      <td>Drake featuring SZA</td>\n",
       "      <td>1</td>\n",
       "    </tr>\n",
       "    <tr>\n",
       "      <th>14</th>\n",
       "      <td>Drake featuring J. Cole</td>\n",
       "      <td>1</td>\n",
       "    </tr>\n",
       "    <tr>\n",
       "      <th>15</th>\n",
       "      <td>Jack Harlow</td>\n",
       "      <td>1</td>\n",
       "    </tr>\n",
       "    <tr>\n",
       "      <th>16</th>\n",
       "      <td>Jungkook featuring Latto</td>\n",
       "      <td>1</td>\n",
       "    </tr>\n",
       "  </tbody>\n",
       "</table>\n",
       "</div>"
      ],
      "text/plain": [
       "                                  Artist  Count\n",
       "0                          Morgan Wallen     16\n",
       "1                            Miley Cyrus      8\n",
       "2                           Taylor Swift      7\n",
       "3                           Mariah Carey      3\n",
       "4                               Doja Cat      3\n",
       "5                         Olivia Rodrigo      2\n",
       "6                   Oliver Anthony Music      2\n",
       "7                             Brenda Lee      2\n",
       "8                                    SZA      1\n",
       "9                           Jason Aldean      1\n",
       "10                                 Jimin      1\n",
       "11  Zach Bryan featuring Kacey Musgraves      1\n",
       "12          The Weeknd and Ariana Grande      1\n",
       "13                   Drake featuring SZA      1\n",
       "14               Drake featuring J. Cole      1\n",
       "15                           Jack Harlow      1\n",
       "16              Jungkook featuring Latto      1"
      ]
     },
     "execution_count": 21,
     "metadata": {},
     "output_type": "execute_result"
    }
   ],
   "source": [
    "#counts number of times each unique artist topped a chart\n",
    "viz1 = chart_toppers['Artist(s)'].value_counts()\n",
    "viz1 = viz1.reset_index()\n",
    "viz1.columns = ['Artist', 'Count']\n",
    "viz1.head(50)"
   ]
  },
  {
   "cell_type": "code",
   "execution_count": 22,
   "metadata": {
    "colab": {
     "base_uri": "https://localhost:8080/",
     "height": 746
    },
    "executionInfo": {
     "elapsed": 388,
     "status": "ok",
     "timestamp": 1720665064090,
     "user": {
      "displayName": "Roberto Carrasco",
      "userId": "11708623061919516743"
     },
     "user_tz": 360
    },
    "id": "vOiY9jnEStdF",
    "outputId": "b4b7ada2-5ab9-4c04-acc8-6b7fab1a6dfd"
   },
   "outputs": [
    {
     "data": {
      "image/png": "[encoded data removed]",
      "text/plain": [
       "<Figure size 1000x500 with 1 Axes>"
      ]
     },
     "metadata": {},
     "output_type": "display_data"
    }
   ],
   "source": [
    "\n",
    "plt.figure(figsize=(10, 5))\n",
    "plt.bar(viz1['Artist'], viz1['Count'])\n",
    "plt.xticks(rotation=90)\n",
    "plt.xlabel('Artist(s)')\n",
    "plt.ylabel('Count')\n",
    "plt.title('Time an Artist had a Number 1 song(weekly)')\n",
    "plt.show()\n"
   ]
  },
  {
   "cell_type": "code",
   "execution_count": 23,
   "metadata": {
    "colab": {
     "base_uri": "https://localhost:8080/",
     "height": 348
    },
    "executionInfo": {
     "elapsed": 4,
     "status": "ok",
     "timestamp": 1720665064090,
     "user": {
      "displayName": "Roberto Carrasco",
      "userId": "11708623061919516743"
     },
     "user_tz": 360
    },
    "id": "AmMlzUZogHMg",
    "outputId": "ff993e0a-ae19-411d-f7a9-35e8dd2d5375"
   },
   "outputs": [
    {
     "name": "stderr",
     "output_type": "stream",
     "text": [
      "/opt/anaconda3/lib/python3.11/site-packages/altair/utils/core.py:395: FutureWarning: the convert_dtype parameter is deprecated and will be removed in a future version.  Do ``ser.astype(object).apply()`` instead if you want ``convert_dtype=False``.\n",
      "  col = df[col_name].apply(to_list_if_array, convert_dtype=False)\n"
     ]
    },
    {
     "data": {
      "text/html": [
       "\n",
       "<style>\n",
       "  #altair-viz-1656329f26e14f2ca86090b54525d90c.vega-embed {\n",
       "    width: 100%;\n",
       "    display: flex;\n",
       "  }\n",
       "\n",
       "  #altair-viz-1656329f26e14f2ca86090b54525d90c.vega-embed details,\n",
       "  #altair-viz-1656329f26e14f2ca86090b54525d90c.vega-embed details summary {\n",
       "    position: relative;\n",
       "  }\n",
       "</style>\n",
       "<div id=\"altair-viz-1656329f26e14f2ca86090b54525d90c\"></div>\n",
       "<script type=\"text/javascript\">\n",
       "  var VEGA_DEBUG = (typeof VEGA_DEBUG == \"undefined\") ? {} : VEGA_DEBUG;\n",
       "  (function(spec, embedOpt){\n",
       "    let outputDiv = document.currentScript.previousElementSibling;\n",
       "    if (outputDiv.id !== \"altair-viz-1656329f26e14f2ca86090b54525d90c\") {\n",
       "      outputDiv = document.getElementById(\"altair-viz-1656329f26e14f2ca86090b54525d90c\");\n",
       "    }\n",
       "    const paths = {\n",
       "      \"vega\": \"https://cdn.jsdelivr.net/npm/vega@5?noext\",\n",
       "      \"vega-lib\": \"https://cdn.jsdelivr.net/npm/vega-lib?noext\",\n",
       "      \"vega-lite\": \"https://cdn.jsdelivr.net/npm/vega-lite@5.8.0?noext\",\n",
       "      \"vega-embed\": \"https://cdn.jsdelivr.net/npm/vega-embed@6?noext\",\n",
       "    };\n",
       "\n",
       "    function maybeLoadScript(lib, version) {\n",
       "      var key = `${lib.replace(\"-\", \"\")}_version`;\n",
       "      return (VEGA_DEBUG[key] == version) ?\n",
       "        Promise.resolve(paths[lib]) :\n",
       "        new Promise(function(resolve, reject) {\n",
       "          var s = document.createElement('script');\n",
       "          document.getElementsByTagName(\"head\")[0].appendChild(s);\n",
       "          s.async = true;\n",
       "          s.onload = () => {\n",
       "            VEGA_DEBUG[key] = version;\n",
       "            return resolve(paths[lib]);\n",
       "          };\n",
       "          s.onerror = () => reject(`Error loading script: ${paths[lib]}`);\n",
       "          s.src = paths[lib];\n",
       "        });\n",
       "    }\n",
       "\n",
       "    function showError(err) {\n",
       "      outputDiv.innerHTML = `<div class=\"error\" style=\"color:red;\">${err}</div>`;\n",
       "      throw err;\n",
       "    }\n",
       "\n",
       "    function displayChart(vegaEmbed) {\n",
       "      vegaEmbed(outputDiv, spec, embedOpt)\n",
       "        .catch(err => showError(`Javascript Error: ${err.message}<br>This usually means there's a typo in your chart specification. See the javascript console for the full traceback.`));\n",
       "    }\n",
       "\n",
       "    if(typeof define === \"function\" && define.amd) {\n",
       "      requirejs.config({paths});\n",
       "      require([\"vega-embed\"], displayChart, err => showError(`Error loading script: ${err.message}`));\n",
       "    } else {\n",
       "      maybeLoadScript(\"vega\", \"5\")\n",
       "        .then(() => maybeLoadScript(\"vega-lite\", \"5.8.0\"))\n",
       "        .then(() => maybeLoadScript(\"vega-embed\", \"6\"))\n",
       "        .catch(showError)\n",
       "        .then(() => displayChart(vegaEmbed));\n",
       "    }\n",
       "  })({\"config\": {\"view\": {\"continuousWidth\": 300, \"continuousHeight\": 300}}, \"data\": {\"name\": \"data-1bd1cbf570e5e9e4abcde34c6494a9a4\"}, \"mark\": {\"type\": \"arc\", \"innerRadius\": 50}, \"encoding\": {\"color\": {\"field\": \"Artist\", \"type\": \"nominal\"}, \"theta\": {\"field\": \"units\", \"type\": \"quantitative\"}, \"tooltip\": [{\"field\": \"Album\", \"title\": \"Album\", \"type\": \"nominal\"}, {\"field\": \"units\", \"format\": \",\", \"title\": \"Units Sold\", \"type\": \"quantitative\"}]}, \"title\": \"Album Units Sold by Taylor Swift and Morgan Wallen\", \"$schema\": \"https://vega.github.io/schema/vega-lite/v5.8.0.json\", \"datasets\": {\"data-1bd1cbf570e5e9e4abcde34c6494a9a4\": [{\"Artist\": \" Morgan Wallen\", \"Album\": \" One Thing at a Time\", \"units\": 5362000}, {\"Artist\": \" Taylor Swift\", \"Album\": \" Midnights\", \"units\": 3209000}, {\"Artist\": \" Taylor Swift\", \"Album\": \" 1989 (Taylor\\u2019s Version)\", \"units\": 2872000}, {\"Artist\": \" Morgan Wallen\", \"Album\": \" Dangerous: The Double Album\", \"units\": 2179000}, {\"Artist\": \" Taylor Swift\", \"Album\": \" Lover\", \"units\": 1875000}, {\"Artist\": \" Taylor Swift\", \"Album\": \" Speak Now (Taylor\\u2019s Version)\", \"units\": 1775000}, {\"Artist\": \" Taylor Swift\", \"Album\": \" Folklore\", \"units\": 1612000}]}}, {\"mode\": \"vega-lite\"});\n",
       "</script>"
      ],
      "text/plain": [
       "alt.Chart(...)"
      ]
     },
     "metadata": {},
     "output_type": "display_data"
    }
   ],
   "source": [
    "\n",
    "\n",
    "df = top10_albums\n",
    "df = df[(df['Artist'] == ' Taylor Swift') | (df['Artist'] == ' Morgan Wallen')]\n",
    "\n",
    "donut_chart = alt.Chart(df).mark_arc(innerRadius=50).encode(\n",
    "    theta=alt.Theta(field=\"units\", type=\"quantitative\"),\n",
    "    color=alt.Color(field=\"Artist\", type=\"nominal\"),\n",
    "    tooltip=[alt.Tooltip('Album:N', title='Album'),\n",
    "             alt.Tooltip('units:Q', title='Units Sold', format=',')]\n",
    ").properties(\n",
    "    title=\"Album Units Sold by Taylor Swift and Morgan Wallen\"\n",
    ")\n",
    "\n",
    "donut_chart.display()"
   ]
  },
  {
   "cell_type": "code",
   "execution_count": 24,
   "metadata": {
    "colab": {
     "base_uri": "https://localhost:8080/",
     "height": 348
    },
    "executionInfo": {
     "elapsed": 3,
     "status": "ok",
     "timestamp": 1720665064090,
     "user": {
      "displayName": "Roberto Carrasco",
      "userId": "11708623061919516743"
     },
     "user_tz": 360
    },
    "id": "zBkPwpB-gHPb",
    "outputId": "e44870d9-7525-4079-abc9-cd3c1f5042fa"
   },
   "outputs": [
    {
     "name": "stderr",
     "output_type": "stream",
     "text": [
      "/opt/anaconda3/lib/python3.11/site-packages/altair/utils/core.py:395: FutureWarning: the convert_dtype parameter is deprecated and will be removed in a future version.  Do ``ser.astype(object).apply()`` instead if you want ``convert_dtype=False``.\n",
      "  col = df[col_name].apply(to_list_if_array, convert_dtype=False)\n"
     ]
    },
    {
     "data": {
      "text/html": [
       "\n",
       "<style>\n",
       "  #altair-viz-3a6a23cdbadb46408a34ca6d47b83a8d.vega-embed {\n",
       "    width: 100%;\n",
       "    display: flex;\n",
       "  }\n",
       "\n",
       "  #altair-viz-3a6a23cdbadb46408a34ca6d47b83a8d.vega-embed details,\n",
       "  #altair-viz-3a6a23cdbadb46408a34ca6d47b83a8d.vega-embed details summary {\n",
       "    position: relative;\n",
       "  }\n",
       "</style>\n",
       "<div id=\"altair-viz-3a6a23cdbadb46408a34ca6d47b83a8d\"></div>\n",
       "<script type=\"text/javascript\">\n",
       "  var VEGA_DEBUG = (typeof VEGA_DEBUG == \"undefined\") ? {} : VEGA_DEBUG;\n",
       "  (function(spec, embedOpt){\n",
       "    let outputDiv = document.currentScript.previousElementSibling;\n",
       "    if (outputDiv.id !== \"altair-viz-3a6a23cdbadb46408a34ca6d47b83a8d\") {\n",
       "      outputDiv = document.getElementById(\"altair-viz-3a6a23cdbadb46408a34ca6d47b83a8d\");\n",
       "    }\n",
       "    const paths = {\n",
       "      \"vega\": \"https://cdn.jsdelivr.net/npm/vega@5?noext\",\n",
       "      \"vega-lib\": \"https://cdn.jsdelivr.net/npm/vega-lib?noext\",\n",
       "      \"vega-lite\": \"https://cdn.jsdelivr.net/npm/vega-lite@5.8.0?noext\",\n",
       "      \"vega-embed\": \"https://cdn.jsdelivr.net/npm/vega-embed@6?noext\",\n",
       "    };\n",
       "\n",
       "    function maybeLoadScript(lib, version) {\n",
       "      var key = `${lib.replace(\"-\", \"\")}_version`;\n",
       "      return (VEGA_DEBUG[key] == version) ?\n",
       "        Promise.resolve(paths[lib]) :\n",
       "        new Promise(function(resolve, reject) {\n",
       "          var s = document.createElement('script');\n",
       "          document.getElementsByTagName(\"head\")[0].appendChild(s);\n",
       "          s.async = true;\n",
       "          s.onload = () => {\n",
       "            VEGA_DEBUG[key] = version;\n",
       "            return resolve(paths[lib]);\n",
       "          };\n",
       "          s.onerror = () => reject(`Error loading script: ${paths[lib]}`);\n",
       "          s.src = paths[lib];\n",
       "        });\n",
       "    }\n",
       "\n",
       "    function showError(err) {\n",
       "      outputDiv.innerHTML = `<div class=\"error\" style=\"color:red;\">${err}</div>`;\n",
       "      throw err;\n",
       "    }\n",
       "\n",
       "    function displayChart(vegaEmbed) {\n",
       "      vegaEmbed(outputDiv, spec, embedOpt)\n",
       "        .catch(err => showError(`Javascript Error: ${err.message}<br>This usually means there's a typo in your chart specification. See the javascript console for the full traceback.`));\n",
       "    }\n",
       "\n",
       "    if(typeof define === \"function\" && define.amd) {\n",
       "      requirejs.config({paths});\n",
       "      require([\"vega-embed\"], displayChart, err => showError(`Error loading script: ${err.message}`));\n",
       "    } else {\n",
       "      maybeLoadScript(\"vega\", \"5\")\n",
       "        .then(() => maybeLoadScript(\"vega-lite\", \"5.8.0\"))\n",
       "        .then(() => maybeLoadScript(\"vega-embed\", \"6\"))\n",
       "        .catch(showError)\n",
       "        .then(() => displayChart(vegaEmbed));\n",
       "    }\n",
       "  })({\"config\": {\"view\": {\"continuousWidth\": 300, \"continuousHeight\": 300}}, \"data\": {\"name\": \"data-79a819cd04501dbf7a014ef630798c13\"}, \"mark\": {\"type\": \"arc\", \"innerRadius\": 50}, \"encoding\": {\"color\": {\"field\": \"Artist\", \"type\": \"nominal\"}, \"theta\": {\"field\": \"units\", \"type\": \"quantitative\"}, \"tooltip\": [{\"field\": \"Album\", \"title\": \"Album\", \"type\": \"nominal\"}, {\"field\": \"units\", \"format\": \",\", \"title\": \"Units Sold\", \"type\": \"quantitative\"}]}, \"title\": \"Album Units Sold by Taylor Swift and Morgan Wallen Excluding Taylors Version Album\", \"$schema\": \"https://vega.github.io/schema/vega-lite/v5.8.0.json\", \"datasets\": {\"data-79a819cd04501dbf7a014ef630798c13\": [{\"Artist\": \" Morgan Wallen\", \"Album\": \" One Thing at a Time\", \"units\": 5362000}, {\"Artist\": \" Taylor Swift\", \"Album\": \" Midnights\", \"units\": 3209000}, {\"Artist\": \" Morgan Wallen\", \"Album\": \" Dangerous: The Double Album\", \"units\": 2179000}, {\"Artist\": \" Taylor Swift\", \"Album\": \" Lover\", \"units\": 1875000}, {\"Artist\": \" Taylor Swift\", \"Album\": \" Folklore\", \"units\": 1612000}]}}, {\"mode\": \"vega-lite\"});\n",
       "</script>"
      ],
      "text/plain": [
       "alt.Chart(...)"
      ]
     },
     "metadata": {},
     "output_type": "display_data"
    }
   ],
   "source": [
    "#removing taylors version from donut graph\n",
    "filtered_df = df[~df['Album'].str.contains(r\"\\(Taylor’s Version\\)\", regex=True)]\n",
    "\n",
    "donut_chart = alt.Chart(filtered_df).mark_arc(innerRadius=50).encode(\n",
    "    theta=alt.Theta(field=\"units\", type=\"quantitative\"),\n",
    "    color=alt.Color(field=\"Artist\", type=\"nominal\"),\n",
    "    tooltip=[alt.Tooltip('Album:N', title='Album'),\n",
    "             alt.Tooltip('units:Q', title='Units Sold', format=',')]\n",
    ").properties(\n",
    "    title=\"Album Units Sold by Taylor Swift and Morgan Wallen Excluding Taylors Version Album\"\n",
    ")\n",
    "\n",
    "donut_chart.display()"
   ]
  },
  {
   "cell_type": "code",
   "execution_count": null,
   "metadata": {},
   "outputs": [],
   "source": []
  },
  {
   "cell_type": "code",
   "execution_count": null,
   "metadata": {},
   "outputs": [],
   "source": []
  }
 ],
 "metadata": {
  "colab": {
   "authorship_tag": "ABX9TyNScvsLllNW0PhGK7uxd2nt",
   "mount_file_id": "1zfDpYoQ3biK7E5aim2ZBz6zEMgtR1A_b",
   "provenance": []
  },
  "kernelspec": {
   "display_name": "Python 3 (ipykernel)",
   "language": "python",
   "name": "python3"
  },
  "language_info": {
   "codemirror_mode": {
    "name": "ipython",
    "version": 3
   },
   "file_extension": ".py",
   "mimetype": "text/x-python",
   "name": "python",
   "nbconvert_exporter": "python",
   "pygments_lexer": "ipython3",
   "version": "3.11.7"
  }
 },
 "nbformat": 4,
 "nbformat_minor": 4
}
